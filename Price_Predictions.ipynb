{
  "nbformat": 4,
  "nbformat_minor": 0,
  "metadata": {
    "accelerator": "GPU",
    "colab": {
      "name": "Price Predictions.ipynb",
      "provenance": [],
      "collapsed_sections": [],
      "include_colab_link": true
    },
    "kernelspec": {
      "name": "python3",
      "display_name": "Python 3"
    },
    "language_info": {
      "name": "python"
    }
  },
  "cells": [
    {
      "cell_type": "markdown",
      "metadata": {
        "id": "view-in-github",
        "colab_type": "text"
      },
      "source": [
        "<a href=\"https://colab.research.google.com/github/Satrio-Arif/Discoffery/blob/ML/Price_Predictions.ipynb\" target=\"_parent\"><img src=\"https://colab.research.google.com/assets/colab-badge.svg\" alt=\"Open In Colab\"/></a>"
      ]
    },
    {
      "cell_type": "markdown",
      "source": [
        "# Importing Libraries"
      ],
      "metadata": {
        "id": "9LA5mj3CGboa"
      }
    },
    {
      "cell_type": "code",
      "metadata": {
        "id": "56XEQOGknrAk",
        "colab": {
          "base_uri": "https://localhost:8080/"
        },
        "outputId": "1b1d4232-1b23-4353-b23a-f9716500eaaa"
      },
      "source": [
        "import numpy as np\n",
        "import matplotlib.pyplot as plt\n",
        "import pandas as pd\n",
        "import math\n",
        "import pathlib\n",
        "from sklearn.preprocessing import MinMaxScaler\n",
        "import tensorflow as tf\n",
        "print(tf.__version__)"
      ],
      "execution_count": null,
      "outputs": [
        {
          "output_type": "stream",
          "name": "stdout",
          "text": [
            "2.8.2\n"
          ]
        }
      ]
    },
    {
      "cell_type": "markdown",
      "source": [
        "# Importing Dataset"
      ],
      "metadata": {
        "id": "W6MtrxQWHZcr"
      }
    },
    {
      "cell_type": "code",
      "metadata": {
        "id": "tP7oqUdkk0gY",
        "colab": {
          "base_uri": "https://localhost:8080/"
        },
        "outputId": "503dd4a8-75ef-40fa-c6d5-0058a87b312a"
      },
      "source": [
        "# coffee_prices(06062022).csv\n",
        "!gdown --id 1MAZAavEMYcS7kb0aLHd7A9mpiq1kd8rw"
      ],
      "execution_count": null,
      "outputs": [
        {
          "output_type": "stream",
          "name": "stdout",
          "text": [
            "/usr/local/lib/python3.7/dist-packages/gdown/cli.py:131: FutureWarning: Option `--id` was deprecated in version 4.3.1 and will be removed in 5.0. You don't need to pass it anymore to use a file ID.\n",
            "  category=FutureWarning,\n",
            "Downloading...\n",
            "From: https://drive.google.com/uc?id=1MAZAavEMYcS7kb0aLHd7A9mpiq1kd8rw\n",
            "To: /content/coffee_prices(06062022).csv\n",
            "100% 283k/283k [00:00<00:00, 105MB/s]\n"
          ]
        }
      ]
    },
    {
      "cell_type": "markdown",
      "source": [
        "## Visualize the closing price history\n"
      ],
      "metadata": {
        "id": "10aBPWiFIfJt"
      }
    },
    {
      "cell_type": "code",
      "metadata": {
        "id": "NcG9r1eClbTh"
      },
      "source": [
        "# Read dataset from csv file\n",
        "df=pd.read_csv('coffee_prices(06062022).csv')"
      ],
      "execution_count": null,
      "outputs": []
    },
    {
      "cell_type": "code",
      "source": [
        "# Showing first 5 rows from dataset\n",
        "df.head()"
      ],
      "metadata": {
        "colab": {
          "base_uri": "https://localhost:8080/",
          "height": 206
        },
        "id": "G5aP2kPGNo67",
        "outputId": "09248663-1f28-4bb2-e506-cbc438fb5acd"
      },
      "execution_count": null,
      "outputs": [
        {
          "output_type": "execute_result",
          "data": {
            "text/plain": [
              "   Unnamed: 0        date  value\n",
              "0           0  1973-08-20  21533\n",
              "1           1  1973-08-21  21454\n",
              "2           2  1973-08-22  21038\n",
              "3           3  1973-08-23  21342\n",
              "4           4  1973-08-24  21294"
            ],
            "text/html": [
              "\n",
              "  <div id=\"df-efeea015-7928-4534-ab2f-e2b16cc6d4fa\">\n",
              "    <div class=\"colab-df-container\">\n",
              "      <div>\n",
              "<style scoped>\n",
              "    .dataframe tbody tr th:only-of-type {\n",
              "        vertical-align: middle;\n",
              "    }\n",
              "\n",
              "    .dataframe tbody tr th {\n",
              "        vertical-align: top;\n",
              "    }\n",
              "\n",
              "    .dataframe thead th {\n",
              "        text-align: right;\n",
              "    }\n",
              "</style>\n",
              "<table border=\"1\" class=\"dataframe\">\n",
              "  <thead>\n",
              "    <tr style=\"text-align: right;\">\n",
              "      <th></th>\n",
              "      <th>Unnamed: 0</th>\n",
              "      <th>date</th>\n",
              "      <th>value</th>\n",
              "    </tr>\n",
              "  </thead>\n",
              "  <tbody>\n",
              "    <tr>\n",
              "      <th>0</th>\n",
              "      <td>0</td>\n",
              "      <td>1973-08-20</td>\n",
              "      <td>21533</td>\n",
              "    </tr>\n",
              "    <tr>\n",
              "      <th>1</th>\n",
              "      <td>1</td>\n",
              "      <td>1973-08-21</td>\n",
              "      <td>21454</td>\n",
              "    </tr>\n",
              "    <tr>\n",
              "      <th>2</th>\n",
              "      <td>2</td>\n",
              "      <td>1973-08-22</td>\n",
              "      <td>21038</td>\n",
              "    </tr>\n",
              "    <tr>\n",
              "      <th>3</th>\n",
              "      <td>3</td>\n",
              "      <td>1973-08-23</td>\n",
              "      <td>21342</td>\n",
              "    </tr>\n",
              "    <tr>\n",
              "      <th>4</th>\n",
              "      <td>4</td>\n",
              "      <td>1973-08-24</td>\n",
              "      <td>21294</td>\n",
              "    </tr>\n",
              "  </tbody>\n",
              "</table>\n",
              "</div>\n",
              "      <button class=\"colab-df-convert\" onclick=\"convertToInteractive('df-efeea015-7928-4534-ab2f-e2b16cc6d4fa')\"\n",
              "              title=\"Convert this dataframe to an interactive table.\"\n",
              "              style=\"display:none;\">\n",
              "        \n",
              "  <svg xmlns=\"http://www.w3.org/2000/svg\" height=\"24px\"viewBox=\"0 0 24 24\"\n",
              "       width=\"24px\">\n",
              "    <path d=\"M0 0h24v24H0V0z\" fill=\"none\"/>\n",
              "    <path d=\"M18.56 5.44l.94 2.06.94-2.06 2.06-.94-2.06-.94-.94-2.06-.94 2.06-2.06.94zm-11 1L8.5 8.5l.94-2.06 2.06-.94-2.06-.94L8.5 2.5l-.94 2.06-2.06.94zm10 10l.94 2.06.94-2.06 2.06-.94-2.06-.94-.94-2.06-.94 2.06-2.06.94z\"/><path d=\"M17.41 7.96l-1.37-1.37c-.4-.4-.92-.59-1.43-.59-.52 0-1.04.2-1.43.59L10.3 9.45l-7.72 7.72c-.78.78-.78 2.05 0 2.83L4 21.41c.39.39.9.59 1.41.59.51 0 1.02-.2 1.41-.59l7.78-7.78 2.81-2.81c.8-.78.8-2.07 0-2.86zM5.41 20L4 18.59l7.72-7.72 1.47 1.35L5.41 20z\"/>\n",
              "  </svg>\n",
              "      </button>\n",
              "      \n",
              "  <style>\n",
              "    .colab-df-container {\n",
              "      display:flex;\n",
              "      flex-wrap:wrap;\n",
              "      gap: 12px;\n",
              "    }\n",
              "\n",
              "    .colab-df-convert {\n",
              "      background-color: #E8F0FE;\n",
              "      border: none;\n",
              "      border-radius: 50%;\n",
              "      cursor: pointer;\n",
              "      display: none;\n",
              "      fill: #1967D2;\n",
              "      height: 32px;\n",
              "      padding: 0 0 0 0;\n",
              "      width: 32px;\n",
              "    }\n",
              "\n",
              "    .colab-df-convert:hover {\n",
              "      background-color: #E2EBFA;\n",
              "      box-shadow: 0px 1px 2px rgba(60, 64, 67, 0.3), 0px 1px 3px 1px rgba(60, 64, 67, 0.15);\n",
              "      fill: #174EA6;\n",
              "    }\n",
              "\n",
              "    [theme=dark] .colab-df-convert {\n",
              "      background-color: #3B4455;\n",
              "      fill: #D2E3FC;\n",
              "    }\n",
              "\n",
              "    [theme=dark] .colab-df-convert:hover {\n",
              "      background-color: #434B5C;\n",
              "      box-shadow: 0px 1px 3px 1px rgba(0, 0, 0, 0.15);\n",
              "      filter: drop-shadow(0px 1px 2px rgba(0, 0, 0, 0.3));\n",
              "      fill: #FFFFFF;\n",
              "    }\n",
              "  </style>\n",
              "\n",
              "      <script>\n",
              "        const buttonEl =\n",
              "          document.querySelector('#df-efeea015-7928-4534-ab2f-e2b16cc6d4fa button.colab-df-convert');\n",
              "        buttonEl.style.display =\n",
              "          google.colab.kernel.accessAllowed ? 'block' : 'none';\n",
              "\n",
              "        async function convertToInteractive(key) {\n",
              "          const element = document.querySelector('#df-efeea015-7928-4534-ab2f-e2b16cc6d4fa');\n",
              "          const dataTable =\n",
              "            await google.colab.kernel.invokeFunction('convertToInteractive',\n",
              "                                                     [key], {});\n",
              "          if (!dataTable) return;\n",
              "\n",
              "          const docLinkHtml = 'Like what you see? Visit the ' +\n",
              "            '<a target=\"_blank\" href=https://colab.research.google.com/notebooks/data_table.ipynb>data table notebook</a>'\n",
              "            + ' to learn more about interactive tables.';\n",
              "          element.innerHTML = '';\n",
              "          dataTable['output_type'] = 'display_data';\n",
              "          await google.colab.output.renderOutput(dataTable, element);\n",
              "          const docLink = document.createElement('div');\n",
              "          docLink.innerHTML = docLinkHtml;\n",
              "          element.appendChild(docLink);\n",
              "        }\n",
              "      </script>\n",
              "    </div>\n",
              "  </div>\n",
              "  "
            ]
          },
          "metadata": {},
          "execution_count": 4
        }
      ]
    },
    {
      "cell_type": "code",
      "source": [
        "# Visualize the dataset to graph \n",
        "plt.figure(figsize=(16,8))\n",
        "plt.title('Close Price History')\n",
        "plt.plot(df['value'])\n",
        "plt.xlabel('Time')\n",
        "plt.ylabel('Price(IDR)')\n",
        "plt.show()"
      ],
      "metadata": {
        "colab": {
          "base_uri": "https://localhost:8080/",
          "height": 513
        },
        "id": "A8lYqYMFNgWi",
        "outputId": "15372fb6-6b97-443b-efff-8c766d7a5f6a"
      },
      "execution_count": null,
      "outputs": [
        {
          "output_type": "display_data",
          "data": {
            "text/plain": [
              "<Figure size 1152x576 with 1 Axes>"
            ],
            "image/png": "[encoded data removed]"
          },
          "metadata": {
            "needs_background": "light"
          }
        }
      ]
    },
    {
      "cell_type": "code",
      "source": [
        "# Show dataset size\n",
        "df.shape"
      ],
      "metadata": {
        "colab": {
          "base_uri": "https://localhost:8080/"
        },
        "id": "9S13Zp8yC1dy",
        "outputId": "a3f04322-5091-4a17-aa10-763dac408f5b"
      },
      "execution_count": null,
      "outputs": [
        {
          "output_type": "execute_result",
          "data": {
            "text/plain": [
              "(12242, 3)"
            ]
          },
          "metadata": {},
          "execution_count": 6
        }
      ]
    },
    {
      "cell_type": "markdown",
      "source": [
        "# Split and scale the Dataset for training"
      ],
      "metadata": {
        "id": "NBT0PaNjLJcR"
      }
    },
    {
      "cell_type": "code",
      "metadata": {
        "id": "VinZVwUa8WO7"
      },
      "source": [
        "# Split 80% data into training data\n",
        "data = df.filter(['value'])\n",
        "dataset = data.values\n",
        "training_data_len = math.ceil(len(dataset)* .8 )"
      ],
      "execution_count": null,
      "outputs": []
    },
    {
      "cell_type": "code",
      "source": [
        "# Show training data size\n",
        "training_data_len"
      ],
      "metadata": {
        "colab": {
          "base_uri": "https://localhost:8080/"
        },
        "id": "tlGbhj-hUjKy",
        "outputId": "de16d8be-4d9a-4c72-ea10-6d7114273975"
      },
      "execution_count": null,
      "outputs": [
        {
          "output_type": "execute_result",
          "data": {
            "text/plain": [
              "9794"
            ]
          },
          "metadata": {},
          "execution_count": 8
        }
      ]
    },
    {
      "cell_type": "code",
      "source": [
        "# Normalize dataset\n",
        "scaler = MinMaxScaler(feature_range=(0,1))\n",
        "scaled_data = scaler.fit_transform(dataset)\n",
        "\n",
        "scaled_data"
      ],
      "metadata": {
        "colab": {
          "base_uri": "https://localhost:8080/"
        },
        "id": "5XN7tyjBEa1w",
        "outputId": "3239ba7b-e5f5-42b8-c841-dcc2027809bd"
      },
      "execution_count": null,
      "outputs": [
        {
          "output_type": "execute_result",
          "data": {
            "text/plain": [
              "array([[0.08477289],\n",
              "       [0.08392996],\n",
              "       [0.07949126],\n",
              "       ...,\n",
              "       [0.66779057],\n",
              "       [0.64783773],\n",
              "       [0.66541117]])"
            ]
          },
          "metadata": {},
          "execution_count": 9
        }
      ]
    },
    {
      "cell_type": "code",
      "metadata": {
        "id": "L92YRw_IpCFG"
      },
      "source": [
        "# Split scaled_data to train data size\n",
        "train_data = scaled_data[0:training_data_len , :]\n",
        "\n",
        "x_train = []\n",
        "y_train = []\n",
        "\n",
        "# Taking 60 days as a one record for training data\n",
        "for i in range(60, len(train_data)):\n",
        "  x_train.append(train_data[i-60:i, 0])\n",
        "  y_train.append(train_data[i, 0])"
      ],
      "execution_count": null,
      "outputs": []
    },
    {
      "cell_type": "code",
      "source": [
        "# Create an array \n",
        "x_train, y_train = np.array(x_train), np.array(y_train)"
      ],
      "metadata": {
        "id": "FqhkSGs-HEhg"
      },
      "execution_count": null,
      "outputs": []
    },
    {
      "cell_type": "code",
      "source": [
        "# Reshaping data to fit into LSTM model\n",
        "x_train = np.reshape(x_train, (x_train.shape[0], x_train.shape[1], 1))\n",
        "x_train.shape"
      ],
      "metadata": {
        "colab": {
          "base_uri": "https://localhost:8080/"
        },
        "id": "nAPbLzyfG7BX",
        "outputId": "a589458a-f8a8-4fbf-84bc-6481672ca358"
      },
      "execution_count": null,
      "outputs": [
        {
          "output_type": "execute_result",
          "data": {
            "text/plain": [
              "(9734, 60, 1)"
            ]
          },
          "metadata": {},
          "execution_count": 12
        }
      ]
    },
    {
      "cell_type": "markdown",
      "source": [
        "# Model Training using Bidirectional LSTM"
      ],
      "metadata": {
        "id": "A8BeYhEVMtOo"
      }
    },
    {
      "cell_type": "code",
      "metadata": {
        "id": "QsksvkcXAAgq",
        "colab": {
          "base_uri": "https://localhost:8080/"
        },
        "outputId": "9e2dd9c1-7182-43dd-8e0a-546f1fde347d"
      },
      "source": [
        "# Building Model using Bidirectional LSTM\n",
        "batch_size = 256\n",
        "model = tf.keras.models.Sequential([\n",
        "  tf.keras.layers.Conv1D(filters=60, kernel_size=5,\n",
        "                      strides=1, padding=\"causal\",\n",
        "                      activation=\"relu\",\n",
        "                      input_shape=[x_train.shape[1], 1]),\n",
        "  tf.keras.layers.Bidirectional(tf.keras.layers.LSTM(256, return_sequences=True)),\n",
        "  tf.keras.layers.Bidirectional(tf.keras.layers.LSTM(128, return_sequences=True)),\n",
        "  tf.keras.layers.Dense(64, activation=\"relu\"),\n",
        "  tf.keras.layers.Dense(32, activation=\"relu\"),\n",
        "  tf.keras.layers.Flatten(),\n",
        "  tf.keras.layers.Dense(1),\n",
        "  tf.keras.layers.Lambda(lambda x: x * 400)\n",
        "])\n",
        "\n",
        "model.summary()"
      ],
      "execution_count": null,
      "outputs": [
        {
          "output_type": "stream",
          "name": "stdout",
          "text": [
            "Model: \"sequential\"\n",
            "_________________________________________________________________\n",
            " Layer (type)                Output Shape              Param #   \n",
            "=================================================================\n",
            " conv1d (Conv1D)             (None, 60, 60)            360       \n",
            "                                                                 \n",
            " bidirectional (Bidirectiona  (None, 60, 512)          649216    \n",
            " l)                                                              \n",
            "                                                                 \n",
            " bidirectional_1 (Bidirectio  (None, 60, 256)          656384    \n",
            " nal)                                                            \n",
            "                                                                 \n",
            " dense (Dense)               (None, 60, 64)            16448     \n",
            "                                                                 \n",
            " dense_1 (Dense)             (None, 60, 32)            2080      \n",
            "                                                                 \n",
            " flatten (Flatten)           (None, 1920)              0         \n",
            "                                                                 \n",
            " dense_2 (Dense)             (None, 1)                 1921      \n",
            "                                                                 \n",
            " lambda (Lambda)             (None, 1)                 0         \n",
            "                                                                 \n",
            "=================================================================\n",
            "Total params: 1,326,409\n",
            "Trainable params: 1,326,409\n",
            "Non-trainable params: 0\n",
            "_________________________________________________________________\n"
          ]
        }
      ]
    },
    {
      "cell_type": "code",
      "source": [
        "# Set the optimizer and loss\n",
        "optimizer = tf.keras.optimizers.Adam(learning_rate=1e-5)\n",
        "model.compile(loss='mean_squared_error',\n",
        "              optimizer=optimizer,\n",
        "              metrics=[\"mae\"])"
      ],
      "metadata": {
        "id": "XaMlV0kwYVlx"
      },
      "execution_count": null,
      "outputs": []
    },
    {
      "cell_type": "code",
      "source": [
        "# Running model\n",
        "history = model.fit(x_train, y_train, epochs=30, batch_size=batch_size)"
      ],
      "metadata": {
        "colab": {
          "base_uri": "https://localhost:8080/"
        },
        "id": "zqey_k6p44aj",
        "outputId": "eb6c9548-7513-42bf-8e2c-965992404773"
      },
      "execution_count": null,
      "outputs": [
        {
          "output_type": "stream",
          "name": "stdout",
          "text": [
            "Epoch 1/30\n",
            "39/39 [==============================] - 27s 57ms/step - loss: 2.4469 - mae: 0.9301\n",
            "Epoch 2/30\n",
            "39/39 [==============================] - 2s 53ms/step - loss: 0.0921 - mae: 0.2176\n",
            "Epoch 3/30\n",
            "39/39 [==============================] - 2s 53ms/step - loss: 0.0522 - mae: 0.1488\n",
            "Epoch 4/30\n",
            "39/39 [==============================] - 2s 54ms/step - loss: 0.0397 - mae: 0.1299\n",
            "Epoch 5/30\n",
            "39/39 [==============================] - 2s 53ms/step - loss: 0.0314 - mae: 0.1157\n",
            "Epoch 6/30\n",
            "39/39 [==============================] - 2s 54ms/step - loss: 0.0261 - mae: 0.1063\n",
            "Epoch 7/30\n",
            "39/39 [==============================] - 2s 54ms/step - loss: 0.0211 - mae: 0.0956\n",
            "Epoch 8/30\n",
            "39/39 [==============================] - 2s 54ms/step - loss: 0.0172 - mae: 0.0862\n",
            "Epoch 9/30\n",
            "39/39 [==============================] - 2s 55ms/step - loss: 0.0135 - mae: 0.0764\n",
            "Epoch 10/30\n",
            "39/39 [==============================] - 2s 55ms/step - loss: 0.0105 - mae: 0.0673\n",
            "Epoch 11/30\n",
            "39/39 [==============================] - 2s 55ms/step - loss: 0.0077 - mae: 0.0576\n",
            "Epoch 12/30\n",
            "39/39 [==============================] - 2s 55ms/step - loss: 0.0057 - mae: 0.0492\n",
            "Epoch 13/30\n",
            "39/39 [==============================] - 2s 55ms/step - loss: 0.0044 - mae: 0.0426\n",
            "Epoch 14/30\n",
            "39/39 [==============================] - 2s 55ms/step - loss: 0.0034 - mae: 0.0371\n",
            "Epoch 15/30\n",
            "39/39 [==============================] - 2s 55ms/step - loss: 0.0027 - mae: 0.0323\n",
            "Epoch 16/30\n",
            "39/39 [==============================] - 2s 55ms/step - loss: 0.0022 - mae: 0.0286\n",
            "Epoch 17/30\n",
            "39/39 [==============================] - 2s 55ms/step - loss: 0.0018 - mae: 0.0258\n",
            "Epoch 18/30\n",
            "39/39 [==============================] - 2s 55ms/step - loss: 0.0015 - mae: 0.0234\n",
            "Epoch 19/30\n",
            "39/39 [==============================] - 2s 56ms/step - loss: 0.0013 - mae: 0.0222\n",
            "Epoch 20/30\n",
            "39/39 [==============================] - 2s 56ms/step - loss: 0.0013 - mae: 0.0223\n",
            "Epoch 21/30\n",
            "39/39 [==============================] - 2s 56ms/step - loss: 0.0012 - mae: 0.0224\n",
            "Epoch 22/30\n",
            "39/39 [==============================] - 2s 56ms/step - loss: 0.0010 - mae: 0.0202\n",
            "Epoch 23/30\n",
            "39/39 [==============================] - 2s 57ms/step - loss: 9.6465e-04 - mae: 0.0196\n",
            "Epoch 24/30\n",
            "39/39 [==============================] - 2s 56ms/step - loss: 9.2217e-04 - mae: 0.0193\n",
            "Epoch 25/30\n",
            "39/39 [==============================] - 2s 56ms/step - loss: 8.9677e-04 - mae: 0.0193\n",
            "Epoch 26/30\n",
            "39/39 [==============================] - 2s 56ms/step - loss: 8.4510e-04 - mae: 0.0186\n",
            "Epoch 27/30\n",
            "39/39 [==============================] - 2s 62ms/step - loss: 8.2283e-04 - mae: 0.0184\n",
            "Epoch 28/30\n",
            "39/39 [==============================] - 2s 60ms/step - loss: 8.3279e-04 - mae: 0.0190\n",
            "Epoch 29/30\n",
            "39/39 [==============================] - 2s 57ms/step - loss: 7.7962e-04 - mae: 0.0181\n",
            "Epoch 30/30\n",
            "39/39 [==============================] - 2s 58ms/step - loss: 7.3868e-04 - mae: 0.0175\n"
          ]
        }
      ]
    },
    {
      "cell_type": "markdown",
      "source": [
        "# Split and scale the Dataset for testing"
      ],
      "metadata": {
        "id": "J_bV_pG6MPNG"
      }
    },
    {
      "cell_type": "code",
      "source": [
        "# Split scaled_data to test data size\n",
        "test_data = scaled_data[training_data_len - 60 : , :]\n",
        "x_test = []\n",
        "y_test = dataset[training_data_len:, :]\n",
        "\n",
        "# Taking 60 days as a one record for testing data\n",
        "for i in range(60, len(test_data)):\n",
        "  x_test.append(test_data[i-60:i, 0])"
      ],
      "metadata": {
        "id": "rDo1sYdqLq9J"
      },
      "execution_count": null,
      "outputs": []
    },
    {
      "cell_type": "code",
      "source": [
        "# Create an array\n",
        "x_test = np.array(x_test)"
      ],
      "metadata": {
        "id": "x17a728bLwZs"
      },
      "execution_count": null,
      "outputs": []
    },
    {
      "cell_type": "code",
      "source": [
        "# Reshaping data to fit into LSTM model\n",
        "x_test = np.reshape(x_test, (x_test.shape[0], x_test.shape[1], 1))\n",
        "x_test.shape"
      ],
      "metadata": {
        "colab": {
          "base_uri": "https://localhost:8080/"
        },
        "id": "zbrym3TxL0ju",
        "outputId": "af053de5-0837-4220-e212-10f623c34ba1"
      },
      "execution_count": null,
      "outputs": [
        {
          "output_type": "execute_result",
          "data": {
            "text/plain": [
              "(2448, 60, 1)"
            ]
          },
          "metadata": {},
          "execution_count": 18
        }
      ]
    },
    {
      "cell_type": "markdown",
      "source": [
        "# Get the Models Predicted"
      ],
      "metadata": {
        "id": "q9lpUg0XM85W"
      }
    },
    {
      "cell_type": "code",
      "metadata": {
        "id": "GaC6NNMRp0lb"
      },
      "source": [
        "# Get the models predicted\n",
        "predictions = model.predict(x_test)\n",
        "predictions = scaler.inverse_transform(predictions)"
      ],
      "execution_count": null,
      "outputs": []
    },
    {
      "cell_type": "code",
      "source": [
        "# Calculate the RMSE (Root Mean Square Error)\n",
        "rmse = np.sqrt(np.mean(predictions - y_test)**2 )\n",
        "rmse"
      ],
      "metadata": {
        "colab": {
          "base_uri": "https://localhost:8080/"
        },
        "id": "5BtYphA7cN0v",
        "outputId": "ca9bb1b3-55b1-4f36-896e-e6f182a27fca"
      },
      "execution_count": null,
      "outputs": [
        {
          "output_type": "execute_result",
          "data": {
            "text/plain": [
              "67.64817979600694"
            ]
          },
          "metadata": {},
          "execution_count": 20
        }
      ]
    },
    {
      "cell_type": "code",
      "metadata": {
        "id": "PrktQX3hKYex",
        "colab": {
          "base_uri": "https://localhost:8080/",
          "height": 623
        },
        "outputId": "384fa8d7-60b5-4ac0-f9e4-4b28024ef3ee"
      },
      "source": [
        "# Visualize the models predicted\n",
        "train = data[:training_data_len]\n",
        "valid = data[training_data_len:]\n",
        "valid['Predictions'] = predictions\n",
        "\n",
        "plt.figure(figsize=(16,8))\n",
        "plt.title('Model')\n",
        "plt.xlabel('Time')\n",
        "plt.ylabel('Price(IDR)')\n",
        "plt.plot(train['value'])\n",
        "plt.plot(valid[['value','Predictions']])\n",
        "plt.legend(['Train', 'Val', 'Predictions'], loc='lower right')\n",
        "plt.show()"
      ],
      "execution_count": null,
      "outputs": [
        {
          "output_type": "stream",
          "name": "stderr",
          "text": [
            "/usr/local/lib/python3.7/dist-packages/ipykernel_launcher.py:4: SettingWithCopyWarning: \n",
            "A value is trying to be set on a copy of a slice from a DataFrame.\n",
            "Try using .loc[row_indexer,col_indexer] = value instead\n",
            "\n",
            "See the caveats in the documentation: https://pandas.pydata.org/pandas-docs/stable/user_guide/indexing.html#returning-a-view-versus-a-copy\n",
            "  after removing the cwd from sys.path.\n"
          ]
        },
        {
          "output_type": "display_data",
          "data": {
            "text/plain": [
              "<Figure size 1152x576 with 1 Axes>"
            ],
            "image/png": "[encoded data removed]"
          },
          "metadata": {
            "needs_background": "light"
          }
        }
      ]
    },
    {
      "cell_type": "code",
      "source": [
        "# Show the value of models predicted\n",
        "valid"
      ],
      "metadata": {
        "colab": {
          "base_uri": "https://localhost:8080/",
          "height": 423
        },
        "id": "Ntk-doOWd-Eb",
        "outputId": "8efc1161-0399-4b78-cb86-59f4d25bc5c8"
      },
      "execution_count": null,
      "outputs": [
        {
          "output_type": "execute_result",
          "data": {
            "text/plain": [
              "       value   Predictions\n",
              "9794   51636  49408.839844\n",
              "9795   50708  50320.285156\n",
              "9796   51684  51196.597656\n",
              "9797   52595  51799.308594\n",
              "9798   51428  51778.417969\n",
              "...      ...           ...\n",
              "12237  73936  68477.101562\n",
              "12238  76558  69052.742188\n",
              "12239  76174  72543.117188\n",
              "12240  74304  76954.554688\n",
              "12241  75951  77808.843750\n",
              "\n",
              "[2448 rows x 2 columns]"
            ],
            "text/html": [
              "\n",
              "  <div id=\"df-1941a7b0-8548-4c86-84b5-a13b25b65769\">\n",
              "    <div class=\"colab-df-container\">\n",
              "      <div>\n",
              "<style scoped>\n",
              "    .dataframe tbody tr th:only-of-type {\n",
              "        vertical-align: middle;\n",
              "    }\n",
              "\n",
              "    .dataframe tbody tr th {\n",
              "        vertical-align: top;\n",
              "    }\n",
              "\n",
              "    .dataframe thead th {\n",
              "        text-align: right;\n",
              "    }\n",
              "</style>\n",
              "<table border=\"1\" class=\"dataframe\">\n",
              "  <thead>\n",
              "    <tr style=\"text-align: right;\">\n",
              "      <th></th>\n",
              "      <th>value</th>\n",
              "      <th>Predictions</th>\n",
              "    </tr>\n",
              "  </thead>\n",
              "  <tbody>\n",
              "    <tr>\n",
              "      <th>9794</th>\n",
              "      <td>51636</td>\n",
              "      <td>49408.839844</td>\n",
              "    </tr>\n",
              "    <tr>\n",
              "      <th>9795</th>\n",
              "      <td>50708</td>\n",
              "      <td>50320.285156</td>\n",
              "    </tr>\n",
              "    <tr>\n",
              "      <th>9796</th>\n",
              "      <td>51684</td>\n",
              "      <td>51196.597656</td>\n",
              "    </tr>\n",
              "    <tr>\n",
              "      <th>9797</th>\n",
              "      <td>52595</td>\n",
              "      <td>51799.308594</td>\n",
              "    </tr>\n",
              "    <tr>\n",
              "      <th>9798</th>\n",
              "      <td>51428</td>\n",
              "      <td>51778.417969</td>\n",
              "    </tr>\n",
              "    <tr>\n",
              "      <th>...</th>\n",
              "      <td>...</td>\n",
              "      <td>...</td>\n",
              "    </tr>\n",
              "    <tr>\n",
              "      <th>12237</th>\n",
              "      <td>73936</td>\n",
              "      <td>68477.101562</td>\n",
              "    </tr>\n",
              "    <tr>\n",
              "      <th>12238</th>\n",
              "      <td>76558</td>\n",
              "      <td>69052.742188</td>\n",
              "    </tr>\n",
              "    <tr>\n",
              "      <th>12239</th>\n",
              "      <td>76174</td>\n",
              "      <td>72543.117188</td>\n",
              "    </tr>\n",
              "    <tr>\n",
              "      <th>12240</th>\n",
              "      <td>74304</td>\n",
              "      <td>76954.554688</td>\n",
              "    </tr>\n",
              "    <tr>\n",
              "      <th>12241</th>\n",
              "      <td>75951</td>\n",
              "      <td>77808.843750</td>\n",
              "    </tr>\n",
              "  </tbody>\n",
              "</table>\n",
              "<p>2448 rows × 2 columns</p>\n",
              "</div>\n",
              "      <button class=\"colab-df-convert\" onclick=\"convertToInteractive('df-1941a7b0-8548-4c86-84b5-a13b25b65769')\"\n",
              "              title=\"Convert this dataframe to an interactive table.\"\n",
              "              style=\"display:none;\">\n",
              "        \n",
              "  <svg xmlns=\"http://www.w3.org/2000/svg\" height=\"24px\"viewBox=\"0 0 24 24\"\n",
              "       width=\"24px\">\n",
              "    <path d=\"M0 0h24v24H0V0z\" fill=\"none\"/>\n",
              "    <path d=\"M18.56 5.44l.94 2.06.94-2.06 2.06-.94-2.06-.94-.94-2.06-.94 2.06-2.06.94zm-11 1L8.5 8.5l.94-2.06 2.06-.94-2.06-.94L8.5 2.5l-.94 2.06-2.06.94zm10 10l.94 2.06.94-2.06 2.06-.94-2.06-.94-.94-2.06-.94 2.06-2.06.94z\"/><path d=\"M17.41 7.96l-1.37-1.37c-.4-.4-.92-.59-1.43-.59-.52 0-1.04.2-1.43.59L10.3 9.45l-7.72 7.72c-.78.78-.78 2.05 0 2.83L4 21.41c.39.39.9.59 1.41.59.51 0 1.02-.2 1.41-.59l7.78-7.78 2.81-2.81c.8-.78.8-2.07 0-2.86zM5.41 20L4 18.59l7.72-7.72 1.47 1.35L5.41 20z\"/>\n",
              "  </svg>\n",
              "      </button>\n",
              "      \n",
              "  <style>\n",
              "    .colab-df-container {\n",
              "      display:flex;\n",
              "      flex-wrap:wrap;\n",
              "      gap: 12px;\n",
              "    }\n",
              "\n",
              "    .colab-df-convert {\n",
              "      background-color: #E8F0FE;\n",
              "      border: none;\n",
              "      border-radius: 50%;\n",
              "      cursor: pointer;\n",
              "      display: none;\n",
              "      fill: #1967D2;\n",
              "      height: 32px;\n",
              "      padding: 0 0 0 0;\n",
              "      width: 32px;\n",
              "    }\n",
              "\n",
              "    .colab-df-convert:hover {\n",
              "      background-color: #E2EBFA;\n",
              "      box-shadow: 0px 1px 2px rgba(60, 64, 67, 0.3), 0px 1px 3px 1px rgba(60, 64, 67, 0.15);\n",
              "      fill: #174EA6;\n",
              "    }\n",
              "\n",
              "    [theme=dark] .colab-df-convert {\n",
              "      background-color: #3B4455;\n",
              "      fill: #D2E3FC;\n",
              "    }\n",
              "\n",
              "    [theme=dark] .colab-df-convert:hover {\n",
              "      background-color: #434B5C;\n",
              "      box-shadow: 0px 1px 3px 1px rgba(0, 0, 0, 0.15);\n",
              "      filter: drop-shadow(0px 1px 2px rgba(0, 0, 0, 0.3));\n",
              "      fill: #FFFFFF;\n",
              "    }\n",
              "  </style>\n",
              "\n",
              "      <script>\n",
              "        const buttonEl =\n",
              "          document.querySelector('#df-1941a7b0-8548-4c86-84b5-a13b25b65769 button.colab-df-convert');\n",
              "        buttonEl.style.display =\n",
              "          google.colab.kernel.accessAllowed ? 'block' : 'none';\n",
              "\n",
              "        async function convertToInteractive(key) {\n",
              "          const element = document.querySelector('#df-1941a7b0-8548-4c86-84b5-a13b25b65769');\n",
              "          const dataTable =\n",
              "            await google.colab.kernel.invokeFunction('convertToInteractive',\n",
              "                                                     [key], {});\n",
              "          if (!dataTable) return;\n",
              "\n",
              "          const docLinkHtml = 'Like what you see? Visit the ' +\n",
              "            '<a target=\"_blank\" href=https://colab.research.google.com/notebooks/data_table.ipynb>data table notebook</a>'\n",
              "            + ' to learn more about interactive tables.';\n",
              "          element.innerHTML = '';\n",
              "          dataTable['output_type'] = 'display_data';\n",
              "          await google.colab.output.renderOutput(dataTable, element);\n",
              "          const docLink = document.createElement('div');\n",
              "          docLink.innerHTML = docLinkHtml;\n",
              "          element.appendChild(docLink);\n",
              "        }\n",
              "      </script>\n",
              "    </div>\n",
              "  </div>\n",
              "  "
            ]
          },
          "metadata": {},
          "execution_count": 22
        }
      ]
    },
    {
      "cell_type": "markdown",
      "source": [
        "# Predicted Price"
      ],
      "metadata": {
        "id": "bxDO42YzNeQK"
      }
    },
    {
      "cell_type": "code",
      "source": [
        "# Show test data size\n",
        "len(test_data)"
      ],
      "metadata": {
        "colab": {
          "base_uri": "https://localhost:8080/"
        },
        "id": "kv26Oy3vOA8i",
        "outputId": "baede762-1015-4156-a0b7-a54bb74270b0"
      },
      "execution_count": null,
      "outputs": [
        {
          "output_type": "execute_result",
          "data": {
            "text/plain": [
              "2508"
            ]
          },
          "metadata": {},
          "execution_count": 23
        }
      ]
    },
    {
      "cell_type": "code",
      "source": [
        "# Taking last 60 days of testing data\n",
        "fut_inp = test_data[2448:]"
      ],
      "metadata": {
        "id": "Rr4p0UrfQCXx"
      },
      "execution_count": null,
      "outputs": []
    },
    {
      "cell_type": "code",
      "source": [
        "# Reshape the data into 2 dimensional\n",
        "fut_inp = fut_inp.reshape(1,-1)"
      ],
      "metadata": {
        "id": "1CUharr2OjTf"
      },
      "execution_count": null,
      "outputs": []
    },
    {
      "cell_type": "code",
      "source": [
        "# Turn the data into list format\n",
        "tmp_inp = list(fut_inp)"
      ],
      "metadata": {
        "id": "e8k45MbAOtfP"
      },
      "execution_count": null,
      "outputs": []
    },
    {
      "cell_type": "code",
      "source": [
        "# Show data size\n",
        "fut_inp.shape"
      ],
      "metadata": {
        "colab": {
          "base_uri": "https://localhost:8080/"
        },
        "id": "Snrjq_vPOwnJ",
        "outputId": "d1d02477-2665-43f6-96ee-d135a59f4ab5"
      },
      "execution_count": null,
      "outputs": [
        {
          "output_type": "execute_result",
          "data": {
            "text/plain": [
              "(1, 60)"
            ]
          },
          "metadata": {},
          "execution_count": 27
        }
      ]
    },
    {
      "cell_type": "code",
      "source": [
        "# Convert the data elements of an array into a list\n",
        "tmp_inp = tmp_inp[0].tolist()"
      ],
      "metadata": {
        "id": "cJrZj_3VOy-N"
      },
      "execution_count": null,
      "outputs": []
    },
    {
      "cell_type": "code",
      "source": [
        "# Predict the coffee price for the next 30 days\n",
        "lst_output=[]\n",
        "n_steps=60\n",
        "i=0\n",
        "while(i<30):\n",
        "    \n",
        "    if(len(tmp_inp)>60):\n",
        "        fut_inp = np.array(tmp_inp[1:])\n",
        "        fut_inp=fut_inp.reshape(1,-1)\n",
        "        fut_inp = fut_inp.reshape((1, n_steps, 1))\n",
        "        yhat = model.predict(fut_inp, verbose=0)\n",
        "        tmp_inp.extend(yhat[0].tolist())\n",
        "        tmp_inp = tmp_inp[1:]\n",
        "        lst_output.extend(yhat.tolist())\n",
        "        i=i+1\n",
        "    else:\n",
        "        fut_inp = fut_inp.reshape((1, n_steps,1))\n",
        "        yhat = model.predict(fut_inp, verbose=0)\n",
        "        tmp_inp.extend(yhat[0].tolist())\n",
        "        lst_output.extend(yhat.tolist())\n",
        "        i=i+1\n",
        "    \n",
        "\n",
        "print(lst_output)"
      ],
      "metadata": {
        "colab": {
          "base_uri": "https://localhost:8080/"
        },
        "id": "0_5j6iGrO1cN",
        "outputId": "5f3dee9f-b399-471c-a896-64b27e8ed896"
      },
      "execution_count": null,
      "outputs": [
        {
          "output_type": "stream",
          "name": "stdout",
          "text": [
            "[[0.6662189364433289], [0.6811560392379761], [0.6718484163284302], [0.6553118824958801], [0.6303112506866455], [0.6149187088012695], [0.6054255366325378], [0.6031453013420105], [0.61353999376297], [0.620387077331543], [0.6308752298355103], [0.6243112683296204], [0.6193689703941345], [0.6400286555290222], [0.6583120226860046], [0.6666853427886963], [0.6649680137634277], [0.6635802984237671], [0.6520118117332458], [0.6444718241691589], [0.6279967427253723], [0.6280987858772278], [0.6249266862869263], [0.6014230847358704], [0.588095486164093], [0.5911114811897278], [0.6048049330711365], [0.6049352884292603], [0.6076003909111023], [0.612285315990448]]\n"
          ]
        }
      ]
    },
    {
      "cell_type": "code",
      "source": [
        "# Split data for 2 plot\n",
        "plot_new=np.arange(1,61)\n",
        "plot_pred=np.arange(61,91)"
      ],
      "metadata": {
        "id": "ys8d-h36Sxkl"
      },
      "execution_count": null,
      "outputs": []
    },
    {
      "cell_type": "code",
      "source": [
        "# Visualize predictions result\n",
        "plt.plot(plot_new, scaler.inverse_transform(scaled_data[12182:]))\n",
        "plt.plot(plot_pred, scaler.inverse_transform(lst_output))"
      ],
      "metadata": {
        "colab": {
          "base_uri": "https://localhost:8080/",
          "height": 287
        },
        "id": "HRVLxuW4SzBu",
        "outputId": "c7333cd2-806d-41b8-91da-0e72a53d7fb3"
      },
      "execution_count": null,
      "outputs": [
        {
          "output_type": "execute_result",
          "data": {
            "text/plain": [
              "[<matplotlib.lines.Line2D at 0x7f93fbc99a10>]"
            ]
          },
          "metadata": {},
          "execution_count": 31
        },
        {
          "output_type": "display_data",
          "data": {
            "text/plain": [
              "<Figure size 432x288 with 1 Axes>"
            ],
            "image/png": "[encoded data removed]"
          },
          "metadata": {
            "needs_background": "light"
          }
        }
      ]
    },
    {
      "cell_type": "code",
      "source": [
        " # Show price predictions values\n",
        " scaler.inverse_transform(lst_output)"
      ],
      "metadata": {
        "colab": {
          "base_uri": "https://localhost:8080/"
        },
        "id": "po8erD2dWXoF",
        "outputId": "cfd4377d-dfd2-4641-dfec-46a9ec6a0a5b"
      },
      "execution_count": null,
      "outputs": [
        {
          "output_type": "execute_result",
          "data": {
            "text/plain": [
              "array([[76026.70494241],\n",
              "       [77426.62515342],\n",
              "       [76554.30542672],\n",
              "       [75004.4849394 ],\n",
              "       [72661.4007256 ],\n",
              "       [71218.79630756],\n",
              "       [70329.08671874],\n",
              "       [70115.38078707],\n",
              "       [71089.58175546],\n",
              "       [71731.29727459],\n",
              "       [72714.25741541],\n",
              "       [72099.07637912],\n",
              "       [71635.87927431],\n",
              "       [73572.12562484],\n",
              "       [75285.66107816],\n",
              "       [76070.4170115 ],\n",
              "       [75909.46721792],\n",
              "       [75779.40914857],\n",
              "       [74695.19900745],\n",
              "       [73988.54383296],\n",
              "       [72444.48272496],\n",
              "       [72454.0463112 ],\n",
              "       [72156.7539655 ],\n",
              "       [69953.97292453],\n",
              "       [68704.89705878],\n",
              "       [68987.55912858],\n",
              "       [70270.92313236],\n",
              "       [70283.14016688],\n",
              "       [70532.91623658],\n",
              "       [70971.99209994]])"
            ]
          },
          "metadata": {},
          "execution_count": 32
        }
      ]
    },
    {
      "cell_type": "markdown",
      "source": [
        "# Model Evaluation "
      ],
      "metadata": {
        "id": "t23J36gWNpqz"
      }
    },
    {
      "cell_type": "code",
      "metadata": {
        "id": "13XrorC5wQoE",
        "colab": {
          "base_uri": "https://localhost:8080/"
        },
        "outputId": "1cd69101-dcfe-4eb2-e1a5-e73d9a4fadda"
      },
      "source": [
        "tf.keras.metrics.mean_absolute_error(y_train, predictions).numpy()"
      ],
      "execution_count": null,
      "outputs": [
        {
          "output_type": "execute_result",
          "data": {
            "text/plain": [
              "array([49408.56 , 50320.004, 51196.312, ..., 72542.836, 76954.266,\n",
              "       77808.555], dtype=float32)"
            ]
          },
          "metadata": {},
          "execution_count": 33
        }
      ]
    },
    {
      "cell_type": "code",
      "metadata": {
        "id": "MD2kyYUVt3O0",
        "colab": {
          "base_uri": "https://localhost:8080/",
          "height": 332
        },
        "outputId": "a8d81ebb-f4eb-4e29-ac7c-4ef66494e5b4"
      },
      "source": [
        "import matplotlib.image  as mpimg\n",
        "import matplotlib.pyplot as plt\n",
        "\n",
        "#-----------------------------------------------------------\n",
        "# Retrieve a list of list results on training and test data\n",
        "# sets for each training epoch\n",
        "#-----------------------------------------------------------\n",
        "loss=history.history['loss']\n",
        "\n",
        "epochs=range(len(loss)) # Get number of epochs\n",
        "\n",
        "\n",
        "#------------------------------------------------\n",
        "# Plot training and validation loss per epoch\n",
        "#------------------------------------------------\n",
        "plt.plot(epochs, loss, 'r')\n",
        "plt.title('Training loss')\n",
        "plt.xlabel(\"Epochs\")\n",
        "plt.ylabel(\"Loss\")\n",
        "plt.legend([\"Loss\"])\n",
        "\n",
        "plt.figure()\n"
      ],
      "execution_count": null,
      "outputs": [
        {
          "output_type": "execute_result",
          "data": {
            "text/plain": [
              "<Figure size 432x288 with 0 Axes>"
            ]
          },
          "metadata": {},
          "execution_count": 34
        },
        {
          "output_type": "display_data",
          "data": {
            "text/plain": [
              "<Figure size 432x288 with 1 Axes>"
            ],
            "image/png": "[encoded data removed]"
          },
          "metadata": {
            "needs_background": "light"
          }
        },
        {
          "output_type": "display_data",
          "data": {
            "text/plain": [
              "<Figure size 432x288 with 0 Axes>"
            ]
          },
          "metadata": {}
        }
      ]
    },
    {
      "cell_type": "markdown",
      "source": [
        "# Save Model"
      ],
      "metadata": {
        "id": "7o4F9Bf_rg7J"
      }
    },
    {
      "cell_type": "code",
      "source": [
        "# Convert model to saved_model format\n",
        "model.save('model_v4.h5')\n",
        "model.save('model_v4')\n",
        "!zip -r 'model_v4.zip' 'model_v4'"
      ],
      "metadata": {
        "id": "74W8Asr-p0lq",
        "colab": {
          "base_uri": "https://localhost:8080/"
        },
        "outputId": "a8cdf52a-de45-42c6-ee23-2b1239333690"
      },
      "execution_count": null,
      "outputs": [
        {
          "output_type": "stream",
          "name": "stderr",
          "text": [
            "WARNING:absl:Found untraced functions such as lstm_cell_1_layer_call_fn, lstm_cell_1_layer_call_and_return_conditional_losses, lstm_cell_2_layer_call_fn, lstm_cell_2_layer_call_and_return_conditional_losses, lstm_cell_4_layer_call_fn while saving (showing 5 of 8). These functions will not be directly callable after loading.\n"
          ]
        },
        {
          "output_type": "stream",
          "name": "stdout",
          "text": [
            "INFO:tensorflow:Assets written to: model_v4/assets\n"
          ]
        },
        {
          "output_type": "stream",
          "name": "stderr",
          "text": [
            "INFO:tensorflow:Assets written to: model_v4/assets\n",
            "WARNING:absl:<keras.layers.recurrent.LSTMCell object at 0x7f947e4bd490> has the same name 'LSTMCell' as a built-in Keras object. Consider renaming <class 'keras.layers.recurrent.LSTMCell'> to avoid naming conflicts when loading with `tf.keras.models.load_model`. If renaming is not possible, pass the object in the `custom_objects` parameter of the load function.\n",
            "WARNING:absl:<keras.layers.recurrent.LSTMCell object at 0x7f947e448290> has the same name 'LSTMCell' as a built-in Keras object. Consider renaming <class 'keras.layers.recurrent.LSTMCell'> to avoid naming conflicts when loading with `tf.keras.models.load_model`. If renaming is not possible, pass the object in the `custom_objects` parameter of the load function.\n",
            "WARNING:absl:<keras.layers.recurrent.LSTMCell object at 0x7f947e45bf10> has the same name 'LSTMCell' as a built-in Keras object. Consider renaming <class 'keras.layers.recurrent.LSTMCell'> to avoid naming conflicts when loading with `tf.keras.models.load_model`. If renaming is not possible, pass the object in the `custom_objects` parameter of the load function.\n",
            "WARNING:absl:<keras.layers.recurrent.LSTMCell object at 0x7f947e469a90> has the same name 'LSTMCell' as a built-in Keras object. Consider renaming <class 'keras.layers.recurrent.LSTMCell'> to avoid naming conflicts when loading with `tf.keras.models.load_model`. If renaming is not possible, pass the object in the `custom_objects` parameter of the load function.\n"
          ]
        },
        {
          "output_type": "stream",
          "name": "stdout",
          "text": [
            "updating: model_v4/ (stored 0%)\n",
            "updating: model_v4/saved_model.pb (deflated 90%)\n",
            "updating: model_v4/keras_metadata.pb (deflated 92%)\n",
            "updating: model_v4/assets/ (stored 0%)\n",
            "updating: model_v4/variables/ (stored 0%)\n",
            "updating: model_v4/variables/variables.data-00000-of-00001 (deflated 6%)\n",
            "updating: model_v4/variables/variables.index (deflated 70%)\n"
          ]
        }
      ]
    },
    {
      "cell_type": "code",
      "source": [
        "# Convert model to TfLite\n",
        "converter = tf.lite.TFLiteConverter.from_saved_model('model_v4')\n",
        "\n",
        "converter.target_spec.supported_ops = [\n",
        "  tf.lite.OpsSet.TFLITE_BUILTINS, # enable TensorFlow Lite ops.\n",
        "  tf.lite.OpsSet.SELECT_TF_OPS # enable TensorFlow ops.\n",
        "]\n",
        "\n",
        "# Invoke the converter to generate the TFLite model\n",
        "tflite_model = converter.convert()\n",
        "\n",
        "tflite_model_file = pathlib.Path('./model_v4.tflite')\n",
        "tflite_model_file.write_bytes(tflite_model)"
      ],
      "metadata": {
        "id": "xx5YGsT-p1VG",
        "colab": {
          "base_uri": "https://localhost:8080/"
        },
        "outputId": "b1609c4e-7adf-4ceb-960a-886f860f9a36"
      },
      "execution_count": null,
      "outputs": [
        {
          "output_type": "stream",
          "name": "stderr",
          "text": [
            "WARNING:absl:Buffer deduplication procedure will be skipped when flatbuffer library is not properly loaded\n"
          ]
        },
        {
          "output_type": "execute_result",
          "data": {
            "text/plain": [
              "5351804"
            ]
          },
          "metadata": {},
          "execution_count": 39
        }
      ]
    }
  ]
}